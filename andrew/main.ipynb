{
 "cells": [
  {
   "cell_type": "code",
   "execution_count": null,
   "id": "07e16014",
   "metadata": {},
   "outputs": [],
   "source": [
    "import spleeter\n",
    "from spleeter.separator import Separator\n",
    "from spleeter.audio.adapter import AudioAdapter\n",
    "\n",
    "from IPython.display import Audio\n",
    "\n",
    "separator = Separator('spleeter:2stems', stft_backend=spleeter.audio.STFTBackend.LIBROSA)\n",
    "\n",
    "audio_loader = AudioAdapter.default()\n",
    "sample_rate = 22050  # 44100 is much better, but this is much faster\n",
    "waveform, _ = audio_loader.load('data/kanye.mp3', sample_rate=sample_rate)\n",
    "\n",
    "separated = separator.separate(waveform)\n",
    "print(separated)\n",
    "\n",
    "vocals = separated['vocals']\n",
    "accom = separated['accompaniment']"
   ]
  },
  {
   "cell_type": "code",
   "execution_count": null,
   "id": "85607e47",
   "metadata": {},
   "outputs": [],
   "source": [
    "import librosa\n",
    "y, sr = librosa.load('data/kanye.mp3', mono=False)  # 2 channels\n",
    "\n",
    "print(y.shape)\n",
    "print(vocals.shape, accom.shape)"
   ]
  },
  {
   "cell_type": "code",
   "execution_count": null,
   "id": "7fc0fb40",
   "metadata": {},
   "outputs": [],
   "source": [
    "Audio(data=accom.T, rate=sample_rate)"
   ]
  },
  {
   "cell_type": "code",
   "execution_count": null,
   "id": "dab72a90",
   "metadata": {},
   "outputs": [],
   "source": [
    "y, sr = librosa.load('data/kanye.mp3')  # use one channel, beat tracking does not support more (https://librosa.org/doc/latest/multichannel.html#exceptions)"
   ]
  },
  {
   "cell_type": "code",
   "execution_count": null,
   "id": "3570a480",
   "metadata": {},
   "outputs": [],
   "source": [
    "song_length = len(y) / sr\n",
    "print(song_length)"
   ]
  },
  {
   "cell_type": "code",
   "execution_count": null,
   "id": "709ab4d8",
   "metadata": {},
   "outputs": [],
   "source": [
    "hop_length = 512  # default\n",
    "tempo, beat_frames = librosa.beat.beat_track(y=y, sr=sr, hop_length=hop_length)"
   ]
  },
  {
   "cell_type": "code",
   "execution_count": null,
   "id": "af77db09",
   "metadata": {},
   "outputs": [],
   "source": [
    "beat_times = librosa.frames_to_time(beat_frames, sr=sr)"
   ]
  },
  {
   "cell_type": "code",
   "execution_count": null,
   "id": "1c062fc3",
   "metadata": {},
   "outputs": [],
   "source": [
    "Audio(y, rate=sr)"
   ]
  },
  {
   "cell_type": "code",
   "execution_count": null,
   "id": "f66dc48c",
   "metadata": {},
   "outputs": [],
   "source": [
    "# Something really weird happens here\n",
    "\n",
    "kanye_waveform, _ = audio_loader.load('data/kanye.mp3', sample_rate=sample_rate)\n",
    "kanye_vocals = separator.separate(kanye_waveform)['vocals']\n",
    "print(kanye_vocals[:10])\n",
    "Audio(kanye_vocals.T, rate=sample_rate)"
   ]
  },
  {
   "cell_type": "code",
   "execution_count": null,
   "id": "d361bc55",
   "metadata": {},
   "outputs": [],
   "source": [
    "eminem_waveform, _ = audio_loader.load('data/eminem.mp3', sample_rate=sample_rate)\n",
    "eminem_accom = separator.separate(eminem_waveform)['accompaniment']\n",
    "print(eminem_accom[:10])\n",
    "Audio(eminem_accom.T, rate=sample_rate)"
   ]
  },
  {
   "cell_type": "code",
   "execution_count": null,
   "id": "7c90e206",
   "metadata": {},
   "outputs": [],
   "source": [
    "print(eminem_accom[:10])\n",
    "Audio(eminem_accom.T, rate=sample_rate)"
   ]
  },
  {
   "cell_type": "code",
   "execution_count": null,
   "id": "67af7e35",
   "metadata": {},
   "outputs": [],
   "source": [
    "import librosa\n",
    "\n",
    "hop_length = 512  # default\n",
    "\n",
    "# tempo_vocals, beat_frames_vocals = librosa.beat.beat_track(y=vocals_waveform.mean(1), sr=sample_rate, hop_length=hop_length)\n",
    "# tempo_acc, beat_frames_acc = librosa.beat.beat_track(y=acc_waveform.mean(1), sr=sample_rate, hop_length=hop_length)\n",
    "\n",
    "# # shift = int((beat_frames_vocals[:100] - beat_frames_acc[:100]).mean()) * hop_length\n",
    "# shift = (beat_frames_vocals[0] - beat_frames_acc[0]) * hop_length\n",
    "# print(shift)\n",
    "# scale = (beat_frames_acc[100] - beat_frames_acc[0]) / (beat_frames_vocals[100] - beat_frames_vocals[0])\n",
    "# print(scale)\n",
    "# print(beat_frames_vocals[:100] * hop_length)\n",
    "# print(shift + beat_frames_acc[:100] * hop_length)\n",
    "# vocals = vocals[shift:]\n",
    "# samples = min(accom.shape[0], vocals.shape[0])\n",
    "# Audio(data=(vocals).T, rate=sample_rate)\n",
    "# # Audio(data=(acc[:samples] + vocals[:samples]).T, rate=sample_rate)"
   ]
  },
  {
   "cell_type": "code",
   "execution_count": null,
   "id": "2c4ef7e0",
   "metadata": {},
   "outputs": [],
   "source": []
  }
 ],
 "metadata": {
  "kernelspec": {
   "display_name": "Python 3",
   "language": "python",
   "name": "python3"
  },
  "language_info": {
   "codemirror_mode": {
    "name": "ipython",
    "version": 3
   },
   "file_extension": ".py",
   "mimetype": "text/x-python",
   "name": "python",
   "nbconvert_exporter": "python",
   "pygments_lexer": "ipython3",
   "version": "3.10.9"
  },
  "vscode": {
   "interpreter": {
    "hash": "57958fbe690b05b666575fbc2060267ec4bc652501223b647bdcfd6c01e3fa04"
   }
  }
 },
 "nbformat": 4,
 "nbformat_minor": 5
}
