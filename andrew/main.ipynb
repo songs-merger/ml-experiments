{
 "cells": [
  {
   "cell_type": "code",
   "execution_count": 3,
   "id": "07e16014",
   "metadata": {
    "tags": []
   },
   "outputs": [
    {
     "ename": "ModuleNotFoundError",
     "evalue": "No module named 'spleeter'",
     "output_type": "error",
     "traceback": [
      "\u001b[0;31m---------------------------------------------------------------------------\u001b[0m",
      "\u001b[0;31mModuleNotFoundError\u001b[0m                       Traceback (most recent call last)",
      "Cell \u001b[0;32mIn[3], line 1\u001b[0m\n\u001b[0;32m----> 1\u001b[0m \u001b[38;5;28;01mimport\u001b[39;00m \u001b[38;5;21;01mspleeter\u001b[39;00m\n\u001b[1;32m      2\u001b[0m \u001b[38;5;28;01mfrom\u001b[39;00m \u001b[38;5;21;01mspleeter\u001b[39;00m\u001b[38;5;21;01m.\u001b[39;00m\u001b[38;5;21;01mseparator\u001b[39;00m \u001b[38;5;28;01mimport\u001b[39;00m Separator\n\u001b[1;32m      3\u001b[0m \u001b[38;5;28;01mfrom\u001b[39;00m \u001b[38;5;21;01mspleeter\u001b[39;00m\u001b[38;5;21;01m.\u001b[39;00m\u001b[38;5;21;01maudio\u001b[39;00m\u001b[38;5;21;01m.\u001b[39;00m\u001b[38;5;21;01madapter\u001b[39;00m \u001b[38;5;28;01mimport\u001b[39;00m AudioAdapter\n",
      "\u001b[0;31mModuleNotFoundError\u001b[0m: No module named 'spleeter'"
     ]
    }
   ],
   "source": [
    "import spleeter\n",
    "from spleeter.separator import Separator\n",
    "from spleeter.audio.adapter import AudioAdapter\n",
    "\n",
    "from IPython.display import Audio\n",
    "\n",
    "separator = Separator('spleeter:2stems', stft_backend=spleeter.audio.STFTBackend.LIBROSA)\n",
    "\n",
    "audio_loader = AudioAdapter.default()\n",
    "sample_rate = 22050  # 44100 is much better, but this is much faster\n",
    "waveform, _ = audio_loader.load('data/kanye.mp3', sample_rate=sample_rate)\n",
    "\n",
    "separated = separator.separate(waveform)\n",
    "print(separated)\n",
    "\n",
    "vocals = separated['vocals']\n",
    "accom = separated['accompaniment']"
   ]
  },
  {
   "cell_type": "code",
   "execution_count": null,
   "id": "85607e47",
   "metadata": {},
   "outputs": [],
   "source": [
    "import librosa\n",
    "y, sr = librosa.load('data/kanye.mp3', mono=False)  # 2 channels\n",
    "\n",
    "print(y.shape)\n",
    "print(vocals.shape, accom.shape)"
   ]
  },
  {
   "cell_type": "code",
   "execution_count": null,
   "id": "7fc0fb40",
   "metadata": {},
   "outputs": [],
   "source": [
    "Audio(data=accom.T, rate=sample_rate)"
   ]
  },
  {
   "cell_type": "code",
   "execution_count": null,
   "id": "dab72a90",
   "metadata": {},
   "outputs": [],
   "source": [
    "y, sr = librosa.load('data/kanye.mp3')  # use one channel, beat tracking does not support more (https://librosa.org/doc/latest/multichannel.html#exceptions)"
   ]
  },
  {
   "cell_type": "code",
   "execution_count": null,
   "id": "3570a480",
   "metadata": {},
   "outputs": [],
   "source": [
    "song_length = len(y) / sr\n",
    "print(song_length)"
   ]
  },
  {
   "cell_type": "code",
   "execution_count": null,
   "id": "709ab4d8",
   "metadata": {},
   "outputs": [],
   "source": [
    "hop_length = 512  # default\n",
    "tempo, beat_frames = librosa.beat.beat_track(y=y, sr=sr, hop_length=hop_length)"
   ]
  },
  {
   "cell_type": "code",
   "execution_count": null,
   "id": "af77db09",
   "metadata": {},
   "outputs": [],
   "source": [
    "beat_times = librosa.frames_to_time(beat_frames, sr=sr)"
   ]
  },
  {
   "cell_type": "code",
   "execution_count": null,
   "id": "1c062fc3",
   "metadata": {},
   "outputs": [],
   "source": [
    "Audio(y, rate=sr)"
   ]
  },
  {
   "cell_type": "code",
   "execution_count": null,
   "id": "f66dc48c",
   "metadata": {},
   "outputs": [],
   "source": [
    "kanye_waveform, _ = audio_loader.load('data/kanye.mp3', sample_rate=sample_rate)\n",
    "kanye_vocals = separator.separate(kanye_waveform)['vocals']\n",
    "print(kanye_vocals[:10])\n",
    "Audio(kanye_vocals.T, rate=sample_rate)"
   ]
  },
  {
   "cell_type": "code",
   "execution_count": null,
   "id": "d361bc55",
   "metadata": {},
   "outputs": [],
   "source": [
    "eminem_waveform, _ = audio_loader.load('data/eminem.mp3', sample_rate=sample_rate)\n",
    "eminem_accom = separator.separate(eminem_waveform)['accompaniment']\n",
    "print(eminem_accom[:10])\n",
    "Audio(eminem_accom.T, rate=sample_rate)"
   ]
  },
  {
   "cell_type": "code",
   "execution_count": null,
   "id": "7c90e206",
   "metadata": {},
   "outputs": [],
   "source": [
    "print(eminem_accom[:10])\n",
    "Audio(eminem_accom.T, rate=sample_rate)"
   ]
  },
  {
   "cell_type": "code",
   "execution_count": null,
   "id": "67af7e35",
   "metadata": {},
   "outputs": [],
   "source": [
    "import librosa\n",
    "\n",
    "hop_length = 512  # default\n",
    "\n",
    "tempo_vocals, beat_frames_vocals = librosa.beat.beat_track(y=kanye_vocals.mean(1), sr=sample_rate, hop_length=hop_length)\n",
    "tempo_accom, beat_frames_accom = librosa.beat.beat_track(y=eminem_accom.mean(1), sr=sample_rate, hop_length=hop_length)"
   ]
  },
  {
   "cell_type": "code",
   "execution_count": null,
   "id": "2c4ef7e0",
   "metadata": {},
   "outputs": [],
   "source": [
    "beat_times_vocals = librosa.frames_to_time(beat_frames_vocals)\n",
    "beat_times_accom = librosa.frames_to_time(beat_frames_accom)\n",
    "\n",
    "def calc_stretch(beat_times_from, beat_times_to):\n",
    "    time_per_beat_from = (beat_times_from[1:] - beat_times_from[:-1]).mean()\n",
    "    time_per_beat_to = (beat_times_to[1:] - beat_times_to[:-1]).mean()\n",
    "    return time_per_beat_to / time_per_beat_from"
   ]
  },
  {
   "cell_type": "code",
   "execution_count": null,
   "id": "f6a60650",
   "metadata": {},
   "outputs": [],
   "source": [
    "beat_samples_vocals = librosa.frames_to_samples(beat_frames_vocals)\n",
    "beat_samples_accom = librosa.frames_to_samples(beat_frames_accom)"
   ]
  },
  {
   "cell_type": "code",
   "execution_count": null,
   "id": "f2f45713",
   "metadata": {},
   "outputs": [],
   "source": [
    "mult = calc_stretch(beat_samples_vocals, beat_samples_accom)\n",
    "mult"
   ]
  },
  {
   "cell_type": "code",
   "execution_count": null,
   "id": "1a02c8dc",
   "metadata": {},
   "outputs": [],
   "source": [
    "accom_spedup = librosa.effects.time_stretch(eminem_accom.mean(1), mult)"
   ]
  },
  {
   "cell_type": "code",
   "execution_count": null,
   "id": "0f1c5313",
   "metadata": {},
   "outputs": [],
   "source": [
    "Audio(accom_spedup, rate=sample_rate)"
   ]
  },
  {
   "cell_type": "code",
   "execution_count": null,
   "id": "4c743408",
   "metadata": {},
   "outputs": [],
   "source": [
    "Audio(kanye_vocals.T, rate=sample_rate)"
   ]
  },
  {
   "cell_type": "code",
   "execution_count": null,
   "id": "cf6248d3",
   "metadata": {},
   "outputs": [],
   "source": [
    "beat_samples_accom_spedup = librosa.frames_to_samples(librosa.beat.beat_track(y=accom_spedup, sr=sample_rate, hop_length=hop_length)[1])"
   ]
  },
  {
   "cell_type": "code",
   "execution_count": null,
   "id": "0b76a3f6",
   "metadata": {},
   "outputs": [],
   "source": [
    "print((beat_samples_vocals[1:] - beat_samples_vocals[:-1]).mean())\n",
    "print((beat_samples_accom_spedup[1:] - beat_samples_accom_spedup[:-1]).mean())"
   ]
  },
  {
   "cell_type": "code",
   "execution_count": null,
   "id": "1aa09817",
   "metadata": {},
   "outputs": [],
   "source": [
    "shift = beat_samples_vocals[0] - beat_samples_accom_spedup[0]\n",
    "if shift >= 0:\n",
    "    vocals_spedup_shifted = kanye_vocals[shift:]\n",
    "    accom_spedup_shifted = accom_spedup\n",
    "else:\n",
    "    accom_spedup_shifted = accom_spedup[-shift:]\n",
    "    vocals_spedup_shifted = kanye_vocals"
   ]
  },
  {
   "cell_type": "code",
   "execution_count": null,
   "id": "e317eb86",
   "metadata": {},
   "outputs": [],
   "source": [
    "x = librosa.frames_to_samples(librosa.beat.beat_track(vocals_spedup_shifted.mean(1), sr=sample_rate, hop_length=hop_length)[1])\n",
    "x[1:] - x[:-1]\n",
    "x[:100]"
   ]
  },
  {
   "cell_type": "code",
   "execution_count": null,
   "id": "8c113b9d",
   "metadata": {},
   "outputs": [],
   "source": [
    "y = librosa.frames_to_samples(librosa.beat.beat_track(accom_spedup_shifted, sr=sample_rate, hop_length=hop_length)[1])\n",
    "y[1:] - y[:-1]\n",
    "y[:100] - x[:100]"
   ]
  },
  {
   "cell_type": "code",
   "execution_count": null,
   "id": "ab6f8d05",
   "metadata": {},
   "outputs": [],
   "source": [
    "import soundfile as sf\n",
    "\n",
    "common_length = min(accom_spedup_shifted.shape[0], vocals_spedup_shifted.shape[0])\n",
    "\n",
    "sf.write('combined.wav', accom_spedup_shifted[:common_length] + vocals_spedup_shifted.mean(1)[:common_length], sample_rate)"
   ]
  },
  {
   "cell_type": "code",
   "execution_count": null,
   "id": "99041e76",
   "metadata": {},
   "outputs": [],
   "source": [
    "Audio(accom_spedup_shifted[:common_length] + vocals_spedup_shifted.mean(1)[:common_length], rate=sample_rate)"
   ]
  }
 ],
 "metadata": {
  "kernelspec": {
   "display_name": "Python 3 (ipykernel)",
   "language": "python",
   "name": "python3"
  },
  "language_info": {
   "codemirror_mode": {
    "name": "ipython",
    "version": 3
   },
   "file_extension": ".py",
   "mimetype": "text/x-python",
   "name": "python",
   "nbconvert_exporter": "python",
   "pygments_lexer": "ipython3",
   "version": "3.9.16"
  },
  "vscode": {
   "interpreter": {
    "hash": "57958fbe690b05b666575fbc2060267ec4bc652501223b647bdcfd6c01e3fa04"
   }
  }
 },
 "nbformat": 4,
 "nbformat_minor": 5
}
