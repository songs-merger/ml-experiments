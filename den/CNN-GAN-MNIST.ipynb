{
 "cells": [
  {
   "cell_type": "code",
   "execution_count": null,
   "id": "ccb10909-a587-458c-af12-cfcf0c2daf5c",
   "metadata": {},
   "outputs": [],
   "source": [
    "import torch\n",
    "from torch import nn\n",
    "from torch.utils.data import DataLoader\n",
    "from torchvision import datasets, transforms"
   ]
  },
  {
   "cell_type": "code",
   "execution_count": 2,
   "id": "c58ce06c-a5c1-4216-af61-7d2cd9bca840",
   "metadata": {
    "tags": []
   },
   "outputs": [],
   "source": [
    "device = torch.device('cuda' if torch.cuda.is_available() else 'cpu')\n",
    "\n",
    "# Image processing\n",
    "transform = transforms.Compose([\n",
    "    transforms.ToTensor(),\n",
    "    transforms.Normalize([0.5], [0.5])\n",
    "])\n",
    "\n",
    "# MNIST dataset\n",
    "mnist = datasets.MNIST(root='./data', \n",
    "                        train=True, \n",
    "                        transform=transform, \n",
    "                        download=True)\n",
    "\n",
    "# Data loader\n",
    "data_loader = DataLoader(dataset=mnist, \n",
    "                         batch_size=batch_size, \n",
    "                         shuffle=True)\n",
    "\n",
    "# Discriminator\n",
    "D = nn.Sequential(\n",
    "    nn.Conv2d(1, 64, kernel_size=4, stride=2, padding=1),\n",
    "    nn.LeakyReLU(0.2),\n",
    "    nn.Conv2d(64, 128, kernel_size=4, stride=2, padding=1),\n",
    "    nn.LeakyReLU(0.2),\n",
    "    nn.Flatten(),\n",
    "    nn.Linear(128*7*7, 1),\n",
    "    nn.Sigmoid()\n",
    ").to(device)\n",
    "\n",
    "# Generator\n",
    "G = nn.Sequential(\n",
    "    nn.Linear(latent_dim, 256*7*7),\n",
    "    nn.ReLU(),\n",
    "    nn.Unflatten(1, (256, 7, 7)),\n",
    "    nn.ConvTranspose2d(256, 128, kernel_size=4, stride=2, padding=1),\n",
    "    nn.ReLU(),\n",
    "    nn.ConvTranspose2d(128, 1, kernel_size=4, stride=2, padding=1),\n",
    "    nn.Tanh()\n",
    ").to(device)\n",
    "\n",
    "# Binary cross entropy loss and optimizer"
   ]
  },
  {
   "cell_type": "code",
   "execution_count": 15,
   "id": "11b6869a-9174-4916-9ead-79d5ca95a03e",
   "metadata": {
    "tags": []
   },
   "outputs": [
    {
     "data": {
      "application/vnd.jupyter.widget-view+json": {
       "model_id": "b24e10c52f174376bce37a96730a2bd2",
       "version_major": 2,
       "version_minor": 0
      },
      "text/plain": [
       "  0%|          | 0/1 [00:00<?, ?it/s]"
      ]
     },
     "metadata": {},
     "output_type": "display_data"
    },
    {
     "data": {
      "application/vnd.jupyter.widget-view+json": {
       "model_id": "843d7cb19a584a2ba97b25e2486ce4d9",
       "version_major": 2,
       "version_minor": 0
      },
      "text/plain": [
       "0it [00:00, ?it/s]"
      ]
     },
     "metadata": {},
     "output_type": "display_data"
    },
    {
     "name": "stdout",
     "output_type": "stream",
     "text": [
      "Epoch [1/1], Step [20/938], d_loss: 0.5428409576416016, g_loss: 1.7149933576583862, D(x): 0.771415114402771, D(G(z)): 0.20620761811733246\n",
      "Epoch [1/1], Step [40/938], d_loss: 0.13734766840934753, g_loss: 2.8712494373321533, D(x): 0.9510857462882996, D(G(z)): 0.0792873203754425\n",
      "Epoch [1/1], Step [60/938], d_loss: 0.20583628118038177, g_loss: 3.1616148948669434, D(x): 0.8911604881286621, D(G(z)): 0.07707847654819489\n",
      "Epoch [1/1], Step [80/938], d_loss: 0.06108241155743599, g_loss: 3.757868766784668, D(x): 0.9697198867797852, D(G(z)): 0.029077092185616493\n",
      "Epoch [1/1], Step [100/938], d_loss: 0.023934384807944298, g_loss: 4.540515899658203, D(x): 0.9879629611968994, D(G(z)): 0.011680042371153831\n",
      "Epoch [1/1], Step [120/938], d_loss: 0.011763082817196846, g_loss: 5.383744716644287, D(x): 0.9930119514465332, D(G(z)): 0.004676245618611574\n",
      "Epoch [1/1], Step [140/938], d_loss: 0.0077045988291502, g_loss: 5.703273773193359, D(x): 0.9957612156867981, D(G(z)): 0.0034257066436111927\n",
      "Epoch [1/1], Step [160/938], d_loss: 0.032762303948402405, g_loss: 4.226408958435059, D(x): 0.9889256954193115, D(G(z)): 0.021084880456328392\n",
      "Epoch [1/1], Step [180/938], d_loss: 0.006364879198372364, g_loss: 5.609297275543213, D(x): 0.9976871013641357, D(G(z)): 0.0040379115380346775\n",
      "Epoch [1/1], Step [200/938], d_loss: 0.003404068760573864, g_loss: 6.2251996994018555, D(x): 0.9986944794654846, D(G(z)): 0.0020939551759511232\n",
      "Epoch [1/1], Step [220/938], d_loss: 0.005366319790482521, g_loss: 5.812394142150879, D(x): 0.9979561567306519, D(G(z)): 0.003310245694592595\n",
      "Epoch [1/1], Step [240/938], d_loss: 0.004026611801236868, g_loss: 6.194299697875977, D(x): 0.9982430934906006, D(G(z)): 0.002253786427900195\n",
      "Epoch [1/1], Step [260/938], d_loss: 0.001965847797691822, g_loss: 6.937246322631836, D(x): 0.9990512728691101, D(G(z)): 0.0010138012003153563\n",
      "Epoch [1/1], Step [280/938], d_loss: 0.0014639421133324504, g_loss: 7.320167541503906, D(x): 0.9992104768753052, D(G(z)): 0.0006725694984197617\n",
      "Epoch [1/1], Step [300/938], d_loss: 0.0012053281534463167, g_loss: 7.549319267272949, D(x): 0.999335527420044, D(G(z)): 0.0005362966330721974\n",
      "Epoch [1/1], Step [320/938], d_loss: 0.0009700260707177222, g_loss: 7.401159286499023, D(x): 0.9996519088745117, D(G(z)): 0.0006212727166712284\n",
      "Epoch [1/1], Step [340/938], d_loss: 0.0019499913323670626, g_loss: 6.540349960327148, D(x): 0.9995822310447693, D(G(z)): 0.0015304258558899164\n",
      "Epoch [1/1], Step [360/938], d_loss: 0.001125676091760397, g_loss: 7.218292713165283, D(x): 0.9996316432952881, D(G(z)): 0.0007567224092781544\n",
      "Epoch [1/1], Step [380/938], d_loss: 1.1219000816345215, g_loss: 2.504664421081543, D(x): 0.8718620538711548, D(G(z)): 0.6242520213127136\n",
      "Epoch [1/1], Step [400/938], d_loss: 0.35910269618034363, g_loss: 2.8594954013824463, D(x): 0.919223427772522, D(G(z)): 0.23271866142749786\n",
      "Epoch [1/1], Step [420/938], d_loss: 0.2053617537021637, g_loss: 2.9720101356506348, D(x): 0.9338431358337402, D(G(z)): 0.1196257546544075\n",
      "Epoch [1/1], Step [440/938], d_loss: 0.12087557464838028, g_loss: 3.14813494682312, D(x): 0.9467378258705139, D(G(z)): 0.05462433770298958\n",
      "Epoch [1/1], Step [460/938], d_loss: 0.11050763726234436, g_loss: 3.669971466064453, D(x): 0.9535372853279114, D(G(z)): 0.04521872103214264\n",
      "Epoch [1/1], Step [480/938], d_loss: 0.21378760039806366, g_loss: 3.7971057891845703, D(x): 0.8709520101547241, D(G(z)): 0.04873174428939819\n",
      "Epoch [1/1], Step [500/938], d_loss: 0.06245576590299606, g_loss: 3.746598482131958, D(x): 0.9813748598098755, D(G(z)): 0.041863467544317245\n"
     ]
    }
   ],
   "source": [
    "# Hyperparameters\n",
    "latent_dim = 100\n",
    "num_epochs = 1\n",
    "batch_size = 64\n",
    "lr = 0.0002\n",
    "beta1 = 0.5\n",
    "\n",
    "from tqdm.auto import tqdm\n",
    "\n",
    "criterion = nn.BCELoss()\n",
    "d_optimizer = torch.optim.Adam(D.parameters(), lr=lr, betas=(beta1, 0.999))\n",
    "g_optimizer = torch.optim.Adam(G.parameters(), lr=lr, betas=(beta1, 0.999))\n",
    "\n",
    "def train(D, G, criterion, d_optimizer, g_optimizer, data_loader):\n",
    "    for epoch in tqdm(range(num_epochs)):\n",
    "        for i, (images, _) in tqdm(enumerate(data_loader)):\n",
    "            \n",
    "            if i > 500: break\n",
    "            \n",
    "            batch_size = images.size(0)\n",
    "            images = images.to(device)\n",
    "            \n",
    "            # Create labels\n",
    "            real_labels = torch.ones(batch_size, 1).to(device)\n",
    "            fake_labels = torch.zeros(batch_size, 1).to(device)\n",
    "            \n",
    "            # Train Discriminator\n",
    "            outputs = D(images)\n",
    "            d_loss_real = criterion(outputs, real_labels)\n",
    "            real_score = outputs\n",
    "            \n",
    "            z = torch.randn(batch_size, latent_dim).to(device)\n",
    "            fake_images = G(z)\n",
    "            outputs = D(fake_images)\n",
    "            d_loss_fake = criterion(outputs, fake_labels)\n",
    "            fake_score = outputs\n",
    "            \n",
    "            d_loss = d_loss_real + d_loss_fake\n",
    "            \n",
    "            d_optimizer.zero_grad()\n",
    "            d_loss.backward()\n",
    "            d_optimizer.step()\n",
    "            \n",
    "            # Train Generator\n",
    "            z = torch.randn(batch_size, latent_dim).to(device)\n",
    "            fake_images = G(z)\n",
    "            outputs = D(fake_images)\n",
    "            \n",
    "            g_loss = criterion(outputs, real_labels)\n",
    "            \n",
    "            g_optimizer.zero_grad()\n",
    "            g_loss.backward()\n",
    "            g_optimizer.step()\n",
    "            \n",
    "            if (i+1) % 20 == 0:\n",
    "                print(f'Epoch [{epoch+1}/{num_epochs}], Step [{i+1}/{len(data_loader)}], d_loss: {d_loss.item()}, g_loss: {g_loss.item()}, D(x): {real_score.mean().item()}, D(G(z)): {fake_score.mean().item()}')\n",
    "\n",
    "# Start training\n",
    "train(D, G, criterion, d_optimizer, g_optimizer, data_loader)"
   ]
  },
  {
   "cell_type": "code",
   "execution_count": 22,
   "id": "d64e79cb-cfaf-49f9-88a1-9901d2ef4ef8",
   "metadata": {
    "tags": []
   },
   "outputs": [],
   "source": [
    "z = torch.randn(1, latent_dim).to(device)\n",
    "img_t = G(z)\n",
    "img = img_t.detach().numpy().reshape(28, 28)"
   ]
  },
  {
   "cell_type": "code",
   "execution_count": 23,
   "id": "a0f66a37-7395-4620-b47a-02cace63f255",
   "metadata": {
    "tags": []
   },
   "outputs": [
    {
     "data": {
      "text/plain": [
       "<matplotlib.image.AxesImage at 0x13a2d1760>"
      ]
     },
     "execution_count": 23,
     "metadata": {},
     "output_type": "execute_result"
    },
    {
     "data": {
      "image/png": "[encoded data removed]",
      "text/plain": [
       "<Figure size 640x480 with 1 Axes>"
      ]
     },
     "metadata": {},
     "output_type": "display_data"
    }
   ],
   "source": [
    "import matplotlib.pyplot as plt\n",
    "plt.imshow(img)"
   ]
  },
  {
   "cell_type": "code",
   "execution_count": null,
   "id": "1dec0295-e418-43f4-b3ee-6967f5f60fdb",
   "metadata": {},
   "outputs": [],
   "source": []
  }
 ],
 "metadata": {
  "kernelspec": {
   "display_name": "Python 3 (ipykernel)",
   "language": "python",
   "name": "python3"
  },
  "language_info": {
   "codemirror_mode": {
    "name": "ipython",
    "version": 3
   },
   "file_extension": ".py",
   "mimetype": "text/x-python",
   "name": "python",
   "nbconvert_exporter": "python",
   "pygments_lexer": "ipython3",
   "version": "3.9.16"
  }
 },
 "nbformat": 4,
 "nbformat_minor": 5
}
